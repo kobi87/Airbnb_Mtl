{
 "cells": [
  {
   "cell_type": "code",
   "execution_count": 26,
   "metadata": {},
   "outputs": [],
   "source": [
    "import numpy as np\n",
    "import pandas as pd\n",
    "import matplotlib.pyplot as plt\n",
    "import pickle\n",
    "\n",
    "# import the dataframe\n",
    "montreal_listing =pd.read_csv('montreal_airbnb.csv')\n",
    "\n",
    "# clean Data\n",
    "montreal_listing = montreal_listing.drop(['name','id','neighbourhood_group','host_name','last_review'], axis=1)\n",
    "montreal_listing.isnull().sum()\n",
    "montreal_listing.dropna(how='any',inplace=True)\n",
    "\n",
    "#creating a sub-dataframe with no extreme values / less than 400 \n",
    "sub_montreal_listing=montreal_listing[montreal_listing.price < 400]\n",
    "\n",
    "# Features Engineering\n",
    "feature_sub_montreal_listing = sub_montreal_listing.copy()\n",
    "feature_sub_montreal_listing.drop(['latitude','longitude'],axis=1,inplace=True)\n",
    "\n",
    "# Encoding categorical features (proposed 1)\n",
    "categorical_features=['room_type', 'neighbourhood']\n",
    "\n",
    "for feature in categorical_features:\n",
    "    labels_ordered=feature_sub_montreal_listing.groupby([feature])['price'].mean().sort_values().index\n",
    "    labels_ordered={k:i for i,k in enumerate(labels_ordered,0)}\n",
    "    feature_sub_montreal_listing[feature]=feature_sub_montreal_listing[feature].map(labels_ordered)\n",
    "\n",
    "# Normalise Dataframe (proposed 2)\n",
    "#num_features=['host_id','reviews_per_month','number_of_reviews','calculated_host_listings_count', 'minimum_nights', 'availability_365', 'price']\n",
    "\n",
    "feature_scale=[feature for feature in feature_sub_montreal_listing.columns if feature not in ['host_id','price']]\n",
    "data = pd.DataFrame()\n",
    "for feature in feature_scale:\n",
    "    data[feature] = (feature_sub_montreal_listing[feature] - feature_sub_montreal_listing[feature].mean())/ (feature_sub_montreal_listing[feature].std())\n",
    "\n",
    "data.insert(loc=0, column='host_id', value=feature_sub_montreal_listing['host_id'])\n",
    "data.insert(loc=1, column='price', value=feature_sub_montreal_listing['price'])\n",
    "feature_sub_montreal_listing = data.copy()\n",
    "\n",
    "# Feature selection\n",
    "# Data filtering\n",
    "# Filter the dataset for prices between 0 and $120\n",
    "feature_sub_montreal_listing = feature_sub_montreal_listing.loc[(feature_sub_montreal_listing['price'] < 120)]\n",
    "\n",
    "## Split data and feature slection data (proposed 1)\n",
    "from sklearn.model_selection import train_test_split\n",
    "\n",
    "x_train = feature_sub_montreal_listing.iloc[0:10000]\n",
    "y_train = feature_sub_montreal_listing.iloc[0:10000]['price'].values\n",
    "#y_train = np.log10(y_train)\n",
    "x_test = feature_sub_montreal_listing.iloc[10000:]\n",
    "y_test = feature_sub_montreal_listing.iloc[10000:]['price'].values\n",
    "#y_test = np.log10(y_test)\n",
    "\n",
    "selected_feat = ['neighbourhood', 'room_type', 'availability_365']\n",
    "x_train=x_train[selected_feat]\n",
    "x_test =x_test[selected_feat] \n",
    "\n",
    "# LR Prediction Model\n",
    "#from sklearn.linear_model import LogisticRegression\n",
    "from sklearn.linear_model import LinearRegression\n",
    "#from sklearn.neighbors import KNeighborsRegressor\n",
    "#from sklearn.metrics import classification_report\n",
    "#from sklearn.metrics import confusion_matrix\n",
    "#from sklearn.metrics import r2_score\n",
    "#from sklearn.metrics import * # importer tout les metrics d'erreurs\n",
    "\n",
    "#Prepare a Linear Regression (LR) Model\n",
    "reg=LinearRegression()\n",
    "reg.fit(x_train,y_train)\n",
    "\n",
    "# Saving model to disk\n",
    "pickle.dump(reg, open('model.pkl','wb')) "
   ]
  },
  {
   "cell_type": "code",
   "execution_count": 25,
   "metadata": {},
   "outputs": [
    {
     "name": "stdout",
     "output_type": "stream",
     "text": [
      "Comparison between the 10 real annonces prices and the predicted prices \n"
     ]
    },
    {
     "data": {
      "text/html": [
       "<div>\n",
       "<style scoped>\n",
       "    .dataframe tbody tr th:only-of-type {\n",
       "        vertical-align: middle;\n",
       "    }\n",
       "\n",
       "    .dataframe tbody tr th {\n",
       "        vertical-align: top;\n",
       "    }\n",
       "\n",
       "    .dataframe thead th {\n",
       "        text-align: right;\n",
       "    }\n",
       "</style>\n",
       "<table border=\"1\" class=\"dataframe\">\n",
       "  <thead>\n",
       "    <tr style=\"text-align: right;\">\n",
       "      <th></th>\n",
       "      <th>Actual</th>\n",
       "      <th>Predicted</th>\n",
       "      <th>neighbourhood</th>\n",
       "      <th>room_type</th>\n",
       "    </tr>\n",
       "  </thead>\n",
       "  <tbody>\n",
       "    <tr>\n",
       "      <th>15787</th>\n",
       "      <td>-5296233161787703296</td>\n",
       "      <td>2.494789e+48</td>\n",
       "      <td>0.935247</td>\n",
       "      <td>-1.528240</td>\n",
       "    </tr>\n",
       "    <tr>\n",
       "      <th>15790</th>\n",
       "      <td>3136633892082024448</td>\n",
       "      <td>2.132398e+43</td>\n",
       "      <td>-0.876285</td>\n",
       "      <td>-1.528240</td>\n",
       "    </tr>\n",
       "    <tr>\n",
       "      <th>15791</th>\n",
       "      <td>0</td>\n",
       "      <td>2.796570e+51</td>\n",
       "      <td>0.572941</td>\n",
       "      <td>-1.528240</td>\n",
       "    </tr>\n",
       "    <tr>\n",
       "      <th>15792</th>\n",
       "      <td>0</td>\n",
       "      <td>1.241202e+70</td>\n",
       "      <td>-1.480129</td>\n",
       "      <td>0.585261</td>\n",
       "    </tr>\n",
       "    <tr>\n",
       "      <th>15793</th>\n",
       "      <td>0</td>\n",
       "      <td>1.372382e+68</td>\n",
       "      <td>-1.480129</td>\n",
       "      <td>0.585261</td>\n",
       "    </tr>\n",
       "    <tr>\n",
       "      <th>15795</th>\n",
       "      <td>0</td>\n",
       "      <td>1.372382e+68</td>\n",
       "      <td>-1.480129</td>\n",
       "      <td>0.585261</td>\n",
       "    </tr>\n",
       "    <tr>\n",
       "      <th>15797</th>\n",
       "      <td>0</td>\n",
       "      <td>6.311624e+75</td>\n",
       "      <td>0.572941</td>\n",
       "      <td>0.585261</td>\n",
       "    </tr>\n",
       "    <tr>\n",
       "      <th>15799</th>\n",
       "      <td>0</td>\n",
       "      <td>3.112802e+77</td>\n",
       "      <td>0.572941</td>\n",
       "      <td>0.585261</td>\n",
       "    </tr>\n",
       "    <tr>\n",
       "      <th>15800</th>\n",
       "      <td>3875820019684212736</td>\n",
       "      <td>6.864469e+38</td>\n",
       "      <td>-1.480129</td>\n",
       "      <td>-1.528240</td>\n",
       "    </tr>\n",
       "    <tr>\n",
       "      <th>15802</th>\n",
       "      <td>687399551400673280</td>\n",
       "      <td>2.252006e+51</td>\n",
       "      <td>0.572941</td>\n",
       "      <td>-1.528240</td>\n",
       "    </tr>\n",
       "  </tbody>\n",
       "</table>\n",
       "</div>"
      ],
      "text/plain": [
       "                    Actual     Predicted  neighbourhood  room_type\n",
       "15787 -5296233161787703296  2.494789e+48       0.935247  -1.528240\n",
       "15790  3136633892082024448  2.132398e+43      -0.876285  -1.528240\n",
       "15791                    0  2.796570e+51       0.572941  -1.528240\n",
       "15792                    0  1.241202e+70      -1.480129   0.585261\n",
       "15793                    0  1.372382e+68      -1.480129   0.585261\n",
       "15795                    0  1.372382e+68      -1.480129   0.585261\n",
       "15797                    0  6.311624e+75       0.572941   0.585261\n",
       "15799                    0  3.112802e+77       0.572941   0.585261\n",
       "15800  3875820019684212736  6.864469e+38      -1.480129  -1.528240\n",
       "15802   687399551400673280  2.252006e+51       0.572941  -1.528240"
      ]
     },
     "execution_count": 25,
     "metadata": {},
     "output_type": "execute_result"
    }
   ],
   "source": [
    "y_pred=reg.predict(x_test)\n",
    "df = pd.DataFrame({'Actual': y_test, 'Predicted': y_pred})\n",
    "# Compare predicted and actual values\n",
    "print('Comparison between the 10 real annonces prices and the predicted prices ')\n",
    "df = pd.DataFrame({'Actual': np.round(10 ** y_test, 0), \n",
    "                   'Predicted': np.round(10 ** y_pred, 0), 'neighbourhood': x_test['neighbourhood'], 'room_type': x_test['room_type']})\n",
    "df.head(10)"
   ]
  },
  {
   "cell_type": "code",
   "execution_count": 10,
   "metadata": {},
   "outputs": [
    {
     "name": "stdout",
     "output_type": "stream",
     "text": [
      "The prediction price is: [44.]\n"
     ]
    }
   ],
   "source": [
    "data_test = pd.DataFrame({'neighbourhood': ['0.935484'], 'room_type': ['-1.528240'], 'availability_365': ['0.496609']})\n",
    "y_data_pred=reg.predict(data_test)\n",
    "print('The prediction price is:',np.round(10 ** y_data_pred, 0) )"
   ]
  },
  {
   "cell_type": "code",
   "execution_count": 7,
   "metadata": {},
   "outputs": [
    {
     "data": {
      "text/plain": [
       "15787   -0.157239\n",
       "15790    0.543313\n",
       "15791    1.664196\n",
       "15792   -0.040481\n",
       "15793   -0.850007\n",
       "           ...   \n",
       "20379    0.496609\n",
       "20381    0.488825\n",
       "20383    0.465474\n",
       "20391    1.780954\n",
       "20397    1.010347\n",
       "Name: availability_365, Length: 2225, dtype: float64"
      ]
     },
     "execution_count": 7,
     "metadata": {},
     "output_type": "execute_result"
    }
   ],
   "source": [
    "x_test['availability_365']"
   ]
  },
  {
   "cell_type": "code",
   "execution_count": 23,
   "metadata": {},
   "outputs": [
    {
     "data": {
      "text/plain": [
       "array([48.39703381, 43.32886827, 51.4466257 , ..., 49.90193195,\n",
       "       51.7287941 , 79.84527926])"
      ]
     },
     "execution_count": 23,
     "metadata": {},
     "output_type": "execute_result"
    }
   ],
   "source": [
    "y_pred=reg.predict(x_test)\n",
    "y_pred"
   ]
  },
  {
   "cell_type": "code",
   "execution_count": null,
   "metadata": {},
   "outputs": [],
   "source": []
  }
 ],
 "metadata": {
  "kernelspec": {
   "display_name": "Python 3",
   "language": "python",
   "name": "python3"
  },
  "language_info": {
   "codemirror_mode": {
    "name": "ipython",
    "version": 3
   },
   "file_extension": ".py",
   "mimetype": "text/x-python",
   "name": "python",
   "nbconvert_exporter": "python",
   "pygments_lexer": "ipython3",
   "version": "3.7.4"
  }
 },
 "nbformat": 4,
 "nbformat_minor": 4
}
